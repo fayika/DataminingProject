{
 "cells": [
  {
   "cell_type": "code",
   "execution_count": 118,
   "metadata": {},
   "outputs": [
    {
     "ename": "ModuleNotFoundError",
     "evalue": "No module named 'gensim'",
     "output_type": "error",
     "traceback": [
      "\u001b[1;31m---------------------------------------------------------------------------\u001b[0m",
      "\u001b[1;31mModuleNotFoundError\u001b[0m                       Traceback (most recent call last)",
      "\u001b[1;32m<ipython-input-118-ae7c64f1b62e>\u001b[0m in \u001b[0;36m<module>\u001b[1;34m\u001b[0m\n\u001b[0;32m     19\u001b[0m \u001b[1;32mimport\u001b[0m \u001b[0mmatplotlib\u001b[0m \u001b[1;32mas\u001b[0m \u001b[0mmpl\u001b[0m\u001b[1;33m\u001b[0m\u001b[1;33m\u001b[0m\u001b[0m\n\u001b[0;32m     20\u001b[0m \u001b[1;32mfrom\u001b[0m \u001b[0mcollections\u001b[0m \u001b[1;32mimport\u001b[0m \u001b[0mCounter\u001b[0m\u001b[1;33m,\u001b[0m \u001b[0mdefaultdict\u001b[0m\u001b[1;33m,\u001b[0m \u001b[0mOrderedDict\u001b[0m\u001b[1;33m\u001b[0m\u001b[1;33m\u001b[0m\u001b[0m\n\u001b[1;32m---> 21\u001b[1;33m \u001b[1;32mimport\u001b[0m \u001b[0mgensim\u001b[0m \u001b[1;32mas\u001b[0m \u001b[0mgen\u001b[0m\u001b[1;33m\u001b[0m\u001b[1;33m\u001b[0m\u001b[0m\n\u001b[0m\u001b[0;32m     22\u001b[0m \u001b[1;32mfrom\u001b[0m \u001b[0mgensim\u001b[0m \u001b[1;32mimport\u001b[0m \u001b[0mcorpora\u001b[0m\u001b[1;33m,\u001b[0m \u001b[0mmodels\u001b[0m\u001b[1;33m,\u001b[0m \u001b[0msimilarities\u001b[0m\u001b[1;33m,\u001b[0m \u001b[0mmatutils\u001b[0m\u001b[1;33m\u001b[0m\u001b[1;33m\u001b[0m\u001b[0m\n\u001b[0;32m     23\u001b[0m \u001b[1;32mfrom\u001b[0m \u001b[0mgensim\u001b[0m\u001b[1;33m.\u001b[0m\u001b[0mcorpora\u001b[0m\u001b[1;33m.\u001b[0m\u001b[0mdictionary\u001b[0m \u001b[1;32mimport\u001b[0m \u001b[0mDictionary\u001b[0m\u001b[1;33m\u001b[0m\u001b[1;33m\u001b[0m\u001b[0m\n",
      "\u001b[1;31mModuleNotFoundError\u001b[0m: No module named 'gensim'"
     ]
    }
   ],
   "source": [
    "%matplotlib inline\n",
    "import matplotlib.pyplot as plt\n",
    "import networkx as nx\n",
    "import pandas as pd\n",
    "import re\n",
    "import numpy as np\n",
    "from collections import Counter\n",
    "import datetime\n",
    "plt.style.use('ggplot')\n",
    "from matplotlib import style\n",
    "import csv\n",
    "import os\n",
    "import numpy\n",
    "import copy\n",
    "import seaborn as sns\n",
    "from sklearn.feature_extraction.text import TfidfVectorizer, CountVectorizer\n",
    "from sklearn.cluster import DBSCAN\n",
    "from sklearn.decomposition import NMF, PCA\n",
    "import matplotlib as mpl\n",
    "from collections import Counter, defaultdict, OrderedDict\n",
    "from gensim import corpora, models, similarities, matutils\n",
    "from gensim.corpora.dictionary import Dictionary\n",
    "\n",
    "\n",
    "\n",
    "%matplotlib inline\n",
    "dataset = pd.read_csv(\"/Users/natha/Documents/tweets1/tweets.csv\", parse_dates=['time'], infer_datetime_format=True)\n",
    "\n",
    "def tsimple(x):\n",
    "    return datetime.datetime(x.year, x.month, x.day)\n",
    "\n",
    "dataset['time'] = dataset.time.apply(tsimple)\n",
    "\n",
    "\n",
    "\n",
    "\n",
    "\n"
   ]
  },
  {
   "cell_type": "code",
   "execution_count": 114,
   "metadata": {},
   "outputs": [
    {
     "data": {
      "text/plain": [
       "Text(0.5, 1.0, 'Mentioned vs. Total in tweets.csv')"
      ]
     },
     "execution_count": 114,
     "metadata": {},
     "output_type": "execute_result"
    },
    {
     "data": {
      "image/png": "[encoded data removed]",
      "text/plain": [
       "<Figure size 432x288 with 2 Axes>"
      ]
     },
     "metadata": {},
     "output_type": "display_data"
    }
   ],
   "source": [
    "in_set = []\n",
    "not_in_set = []\n",
    "for record in actual_tweets:\n",
    "    match = re.findall(r'@\\w*', record[1])\n",
    "    if match != []:\n",
    "        for name in match:\n",
    "            if (name[1:] in dataset['username'].unique()) and (record[0] != name[1:]):\n",
    "                in_set.append([record[0], name[1:]])\n",
    "            elif record[0] != name[1:]:\n",
    "                not_in_set.append([record[0], name[1:]])\n",
    "\n",
    "in_set = np.array(in_set)\n",
    "not_in_set = np.array(not_in_set)\n",
    "\n",
    "fig, ax = plt.subplots(1,2)\n",
    "\n",
    "ax[0].bar([1,2], [len(np.unique(in_set[:,1])), len(np.unique(not_in_set[:,1]))], align='center')\n",
    "ax[0].set_xticks([1,2])\n",
    "ax[0].set_xticklabels(['In', 'Not in'])\n",
    "ax[0].set_title('Users in vs. not in tweets.csv', fontsize=9)\n",
    "\n",
    "ax[1].bar([1,2], [len(np.unique(in_set[:,1])), len(dataset['username'].unique())], align='center')\n",
    "ax[1].set_xticks([1,2])\n",
    "ax[1].set_xticklabels(['Mentioned', 'Total'])\n",
    "ax[1].set_title('Mentioned vs. Total in tweets.csv', fontsize=9)\n"
   ]
  },
  {
   "cell_type": "code",
   "execution_count": null,
   "metadata": {},
   "outputs": [],
   "source": [
    "sender_count = Counter(in_set[:,0])\n",
    "receiver_count = Counter(in_set[:,1])\n",
    "top_5_senders = sender_count.most_common(5)\n",
    "top_5_receivers = receiver_count.most_common(5)\n",
    "\n",
    "print(top_5_senders)\n",
    "print(top_5_receivers)\n"
   ]
  },
  {
   "cell_type": "code",
   "execution_count": null,
   "metadata": {},
   "outputs": [],
   "source": [
    "for name, _ in top_5_receivers:\n",
    "    print(\"Username: {} - {}\\n\".format(name,\n",
    "            dataset[dataset['username'] == name]['description'].dropna().unique()[0]))\n"
   ]
  },
  {
   "cell_type": "code",
   "execution_count": null,
   "metadata": {},
   "outputs": [],
   "source": [
    "graph = nx.Graph()\n",
    "\n",
    "all_users = list(set(in_set[:,0]) | set(in_set[:,1]))\n",
    "graph.add_nodes_from(all_users, count=10)\n",
    "node_colours = []\n",
    "\n",
    "for node in graph.nodes():\n",
    "    if node in (set(in_set[:,0]) & set(in_set[:,1])):\n",
    "        node_colours.append('g')\n",
    "    elif node in np.unique(in_set[:,0]):\n",
    "        node_colours.append('r')\n",
    "    elif node in np.unique(in_set[:,1]):\n",
    "        node_colours.append('b')\n"
   ]
  },
  {
   "cell_type": "code",
   "execution_count": null,
   "metadata": {},
   "outputs": [],
   "source": [
    "edges = {}\n",
    "occurrence_count = Counter(map(tuple, in_set))\n",
    "for (sender, receiver), count in occurrence_count.items():\n",
    "    if (receiver, sender) in edges.keys():\n",
    "        edges[(receiver, sender)] = edges[(receiver, sender)] + count\n",
    "    else:\n",
    "        edges[(sender, receiver)] = count\n",
    "        \n",
    "for (sender, receiver), count in edges.items():\n",
    "    graph.add_edge(sender, receiver, weight=count)\n",
    "    \n",
    "followers = {}\n",
    "tweet_num = {}\n",
    "for username in all_users:\n",
    "    followers[username] = dataset[dataset['username'] == username]['followers'].unique()[-1]\n",
    "    tweet_num[username] = dataset[dataset['username'] == username]['tweets'].count()\n",
    "\n",
    "sizes = [(followers[n] / tweet_num[n]) * 50 for n in graph.nodes()]\n",
    "#weights = [graph.edge[u][v]['weight']/2 for u, v in graph.edges()]\n",
    "\n",
    "plt.figure(figsize=(20,20))\n",
    "nx.draw(graph, pos=nx.spring_layout(graph),\n",
    "        node_color=node_colours, with_labels=True)#, width=weights)\n",
    "plt.show()"
   ]
  },
  {
   "cell_type": "code",
   "execution_count": null,
   "metadata": {},
   "outputs": [],
   "source": [
    "dataset.time.value_counts().plot(title='ISIS related tweets over time',\n",
    "                              xlim=[datetime.date(2015, 11, 1),datetime.date(2016, 4, 30)],\n",
    "                              figsize=(16,8))"
   ]
  },
  {
   "cell_type": "code",
   "execution_count": null,
   "metadata": {},
   "outputs": [],
   "source": [
    "dataset.time.value_counts().sort_index().cumsum().plot.area(title='Total number of ISIS related tweets over time',\n",
    "                                                         xlim=[datetime.date(2015, 10, 1),datetime.date(2016, 4, 30)],\n",
    "                                                         figsize=(16,8))"
   ]
  },
  {
   "cell_type": "code",
   "execution_count": null,
   "metadata": {},
   "outputs": [],
   "source": [
    "time_tweets = dataset.time.value_counts().sort_index()\n",
    "april_tweets = time_tweets.loc['2016-4-1':'2016-4-30']"
   ]
  },
  {
   "cell_type": "code",
   "execution_count": null,
   "metadata": {},
   "outputs": [],
   "source": [
    "fig = plt.figure(figsize=(10,10))\n",
    "ax = fig.add_subplot(111)\n",
    "line = ax.plot(april_tweets)\n",
    "\n",
    "apr19 = 'Truck Bomb in Kabul'\n",
    "ax.annotate(apr19, xytext=('2016-4-19', 40), rotation=45,\n",
    "            arrowprops=dict(connectionstyle=\"arc3\"), xy=('2016-4-19', 20))\n",
    "\n",
    "apr21 = 'Obama goes to Saudi Arabia'\n",
    "ax.annotate(apr21, xytext=('2016-4-21', 40), rotation=45,\n",
    "            arrowprops=dict(connectionstyle=\"arc3\"), xy=('2016-4-21',20))\n",
    "\n",
    "apr24 = 'US Cyberattacks ISIS'\n",
    "ax.annotate(apr24, xytext=('2016-4-24', 30), rotation=45,\n",
    "            arrowprops=dict(connectionstyle=\"arc3\"), xy=('2016-4-24', 20))\n",
    "\n",
    "apr27 = 'Suicide Bombing in Turkey'\n",
    "ax.annotate(apr27, xytext=('2016-4-27', 30), rotation=45,\n",
    "            arrowprops=dict(connectionstyle=\"arc3\"), xy=('2016-4-27', 20))\n",
    "\n",
    "ax.set_ylim(0,50)\n",
    "plt.title('Tweets per Day and Notable Current Events in April')\n",
    "plt.show()"
   ]
  },
  {
   "cell_type": "code",
   "execution_count": null,
   "metadata": {},
   "outputs": [],
   "source": [
    "MyColumns = ['hashtag','cnt']\n",
    "hashtagcount = pd.DataFrame(columns=MyColumns)\n",
    "\n",
    "for index, row in dataset.iterrows():\n",
    "    if '#' in row['tweets']:\n",
    "        words = row['tweets'].split()\n",
    "        for word in words:\n",
    "            if word[0] == '#':\n",
    "                hashtagcount.loc[len(hashtagcount)] = [word, 1]  # adding a row\n",
    "                \n",
    "hashtags = hashtagcount.groupby(['hashtag']).count().reset_index()\n",
    "hashtags = hashtags.sort_values(by='cnt').tail(10)\n",
    "\n",
    "x = hashtags['hashtag']\n",
    "y = hashtags['cnt']\n",
    "plt.xlabel('hashtag')\n",
    "plt.ylabel('Number of times used')\n",
    "plt.title('Most number of hashtags used')\n",
    "plt.xticks(range(10), x, rotation=60)\n",
    "plt.bar(range(10), y, label='Most hashtags used')\n",
    "plt.show()"
   ]
  },
  {
   "cell_type": "code",
   "execution_count": null,
   "metadata": {},
   "outputs": [],
   "source": [
    "unique_tweeterites = data.groupby('username')\n",
    "print(len(unique_tweeterites))"
   ]
  },
  {
   "cell_type": "code",
   "execution_count": null,
   "metadata": {},
   "outputs": [],
   "source": []
  },
  {
   "cell_type": "code",
   "execution_count": null,
   "metadata": {},
   "outputs": [],
   "source": []
  }
 ],
 "metadata": {
  "kernelspec": {
   "display_name": "Python 3",
   "language": "python",
   "name": "python3"
  },
  "language_info": {
   "codemirror_mode": {
    "name": "ipython",
    "version": 3
   },
   "file_extension": ".py",
   "mimetype": "text/x-python",
   "name": "python",
   "nbconvert_exporter": "python",
   "pygments_lexer": "ipython3",
   "version": "3.7.1"
  }
 },
 "nbformat": 4,
 "nbformat_minor": 2
}
