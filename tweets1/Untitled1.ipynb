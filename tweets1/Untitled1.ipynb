{
 "cells": [
  {
   "cell_type": "code",
   "execution_count": 32,
   "metadata": {},
   "outputs": [
    {
     "ename": "ModuleNotFoundError",
     "evalue": "No module named 'langid'",
     "output_type": "error",
     "traceback": [
      "\u001b[1;31m---------------------------------------------------------------------------\u001b[0m",
      "\u001b[1;31mModuleNotFoundError\u001b[0m                       Traceback (most recent call last)",
      "\u001b[1;32m<ipython-input-32-154a7a3693c2>\u001b[0m in \u001b[0;36m<module>\u001b[1;34m\u001b[0m\n\u001b[0;32m     50\u001b[0m \u001b[0mplt\u001b[0m\u001b[1;33m.\u001b[0m\u001b[0mstyle\u001b[0m\u001b[1;33m.\u001b[0m\u001b[0muse\u001b[0m\u001b[1;33m(\u001b[0m\u001b[1;34m'ggplot'\u001b[0m\u001b[1;33m)\u001b[0m\u001b[1;33m\u001b[0m\u001b[1;33m\u001b[0m\u001b[0m\n\u001b[0;32m     51\u001b[0m \u001b[1;33m\u001b[0m\u001b[0m\n\u001b[1;32m---> 52\u001b[1;33m \u001b[1;32mimport\u001b[0m \u001b[0mlangid\u001b[0m \u001b[1;31m# identify languages based on tweets\u001b[0m\u001b[1;33m\u001b[0m\u001b[1;33m\u001b[0m\u001b[0m\n\u001b[0m",
      "\u001b[1;31mModuleNotFoundError\u001b[0m: No module named 'langid'"
     ]
    }
   ],
   "source": [
    "import pandas as pd;\n",
    "import numpy as np;\n",
    "import scipy as sp;\n",
    "import sklearn;\n",
    "import sys;\n",
    "from nltk.corpus import stopwords;\n",
    "import nltk;\n",
    "from nltk.stem import WordNetLemmatizer, SnowballStemmer\n",
    "from nltk.stem.porter import *\n",
    "#from gensim.models import ldamodel\n",
    "#import gensim.corpora;\n",
    "from sklearn.feature_extraction.text import CountVectorizer, TfidfTransformer;\n",
    "from sklearn.decomposition import NMF;\n",
    "from sklearn.preprocessing import normalize;\n",
    "import pickle;\n",
    "\n",
    "from pandas import DataFrame, Series\n",
    "import matplotlib.pyplot as plt\n",
    "import matplotlib\n",
    "%matplotlib inline\n",
    "\n",
    "\n",
    "import pandas as pd\n",
    "import csv\n",
    "import os\n",
    "import numpy\n",
    "import copy\n",
    "%matplotlib inline\n",
    "import numpy as np\n",
    "import seaborn as sns\n",
    "import re\n",
    "from sklearn.feature_extraction.text import TfidfVectorizer, CountVectorizer\n",
    "#from gensim import corpora, models, similarities, matutils\n",
    "#from gensim.corpora.dictionary import Dictionary\n",
    "from sklearn.cluster import DBSCAN\n",
    "from sklearn.decomposition import NMF, PCA\n",
    "import matplotlib as mpl\n",
    "import matplotlib.pyplot as plt\n",
    "from collections import Counter, defaultdict, OrderedDict\n",
    "import seaborn as sns\n",
    "import matplotlib.pyplot as plt\n",
    "\n",
    "df = pd.read_csv(\"/Users/natha/Documents/tweets1/tweets.csv\",  header=0)\n",
    "\n",
    "import pandas as pd\n",
    "import numpy as np\n",
    "import matplotlib.pyplot as plt\n",
    "import seaborn as sns\n",
    "%matplotlib inline\n",
    "plt.style.use('ggplot')\n",
    "\n",
    "import langid # identify languages based on tweets"
   ]
  },
  {
   "cell_type": "code",
   "execution_count": 8,
   "metadata": {},
   "outputs": [
    {
     "data": {
      "image/png": "[encoded data removed]",
      "text/plain": [
       "<Figure size 432x288 with 1 Axes>"
      ]
     },
     "metadata": {
      "needs_background": "light"
     },
     "output_type": "display_data"
    }
   ],
   "source": [
    "MyColumns = ['hashtag','cnt']\n",
    "hashtagcount = pd.DataFrame(columns=MyColumns)\n",
    "\n",
    "for index, row in dataset.iterrows():\n",
    "    if '#' in row['tweets']:\n",
    "        words = row['tweets'].split()\n",
    "        for word in words:\n",
    "            if word[0] == '#':\n",
    "                hashtagcount.loc[len(hashtagcount)] = [word, 1]  # adding a row\n",
    "                \n",
    "hashtags = hashtagcount.groupby(['hashtag']).count().reset_index()\n",
    "hashtags = hashtags.sort_values(by='cnt').tail(10)\n",
    "\n",
    "x = hashtags['hashtag']\n",
    "y = hashtags['cnt']\n",
    "plt.xlabel('hashtag')\n",
    "plt.ylabel('Number of times used')\n",
    "plt.title('Most number of hashtags used')\n",
    "plt.xticks(range(10), x, rotation=60)\n",
    "plt.bar(range(10), y, label='Most hashtags used')\n",
    "plt.show()"
   ]
  },
  {
   "cell_type": "code",
   "execution_count": 23,
   "metadata": {},
   "outputs": [],
   "source": [
    "regex_str = [\n",
    "    r'<[^>]+>', # HTML tags\n",
    "    r'(?:@[\\w_]+)', # @-mentions\n",
    "    r\"(?:\\#+[\\w_]+[\\w\\'_\\-]*[\\w_]+)\", # hash-tags\n",
    "    r'http[s]?://(?:[a-z]|[0-9]|[$-_@.&+]|[!*\\(\\),]|(?:%[0-9a-f][0-9a-f]))+', # URLs\n",
    " \n",
    "    r'(?:(?:\\d+,?)+(?:\\.?\\d+)?)', # numbers\n",
    "    r\"(?:[a-z][a-z'\\-_]+[a-z])\", # words with - and '\n",
    "    r'(?:[\\w_]+)', # other words\n",
    "    r'(?:\\S)' # anything else\n",
    "]\n",
    "    \n",
    "tokens_re = re.compile(r'('+'|'.join(regex_str)+')', re.VERBOSE | re.IGNORECASE)\n",
    " \n",
    "def tokenize(s):\n",
    "    return tokens_re.findall(s)\n",
    " \n",
    "def preprocess(s, lowercase=False):\n",
    "    tokens = tokenize(s)\n",
    "    if lowercase:\n",
    "        tokens = [token.lower() for token in tokens]\n",
    "    return tokens"
   ]
  },
  {
   "cell_type": "code",
   "execution_count": 25,
   "metadata": {},
   "outputs": [
    {
     "data": {
      "text/plain": [
       "[('rt', 5874),\n",
       " ('isis', 2306),\n",
       " ('amp', 1355),\n",
       " ('killed', 1287),\n",
       " ('syria', 1272),\n",
       " ('army', 902),\n",
       " ('state', 692),\n",
       " ('islamic', 686),\n",
       " ('assad', 591),\n",
       " ('aleppo', 586),\n",
       " ('ramiallolah', 577),\n",
       " ('near', 575),\n",
       " ('allah', 569),\n",
       " ('iraq', 562),\n",
       " ('breaking', 555),\n",
       " ('iraqi', 549),\n",
       " ('syrian', 543),\n",
       " ('soldiers', 528),\n",
       " ('today', 511),\n",
       " ('attack', 500),\n",
       " ('forces', 484),\n",
       " ('al', 477),\n",
       " ('city', 459),\n",
       " ('islamicstate', 456),\n",
       " ('people', 418)]"
      ]
     },
     "execution_count": 25,
     "metadata": {},
     "output_type": "execute_result"
    }
   ],
   "source": [
    "vect1 = CountVectorizer(analyzer=\"word\", stop_words=\"english\", min_df=200, decode_error=\"ignore\", ngram_range=(1, 1), dtype=np.int32)\n",
    "\n",
    "# applying Vectorizer to preprocessed tweets\n",
    "sub11 = vect1.fit_transform(df[\"tweets\"].map(lambda x: \" \".join(preprocess(x, lowercase = True))).tolist())\n",
    "\n",
    "# creating (word, count) list\n",
    "sub12 = zip(vect1.get_feature_names(), np.asarray(sub11.sum(axis = 0)).ravel())\n",
    "\n",
    "# getting Top20 words\n",
    "sorted(sub12, key = lambda x: x[1], reverse = True)[0:25]"
   ]
  },
  {
   "cell_type": "code",
   "execution_count": 27,
   "metadata": {},
   "outputs": [
    {
     "data": {
      "text/plain": [
       "['@khalidmaghrebi',\n",
       " '@seifulmaslul123',\n",
       " '@cheerleadunite',\n",
       " '@khalidmaghrebi',\n",
       " '@seifulmaslul123']"
      ]
     },
     "execution_count": 27,
     "metadata": {},
     "output_type": "execute_result"
    }
   ],
   "source": [
    "tags = df[\"tweets\"].map(lambda x: [tag for tag in preprocess(x, lowercase=True) if tag.startswith('@')])\n",
    "tags = sum(tags, [])\n",
    "tags[0:5]"
   ]
  },
  {
   "cell_type": "code",
   "execution_count": 28,
   "metadata": {},
   "outputs": [
    {
     "data": {
      "text/plain": [
       "[('@ramiallolah', 577),\n",
       " ('@nidalgazaui', 341),\n",
       " ('@warreporter1', 256),\n",
       " ('@7layers', 116),\n",
       " ('@scotsmaninfidel', 79),\n",
       " ('@sparksofirhabi3', 76),\n",
       " ('@didyouknowvs', 72),\n",
       " ('@maghrebiqm', 72),\n",
       " ('@conflicts', 71),\n",
       " ('@unclesamcoco', 69),\n",
       " ('@spicylatte123', 61),\n",
       " ('@ele7vn', 58),\n",
       " ('@1texanna', 56),\n",
       " ('@wayf44rer', 54),\n",
       " ('@sassysassyred', 54),\n",
       " ('@shamirebel', 52),\n",
       " ('@pachaconsumer', 48),\n",
       " ('@sparksofirhabi5', 48),\n",
       " ('@kafirkaty', 48),\n",
       " ('@vivarevolt', 46)]"
      ]
     },
     "execution_count": 28,
     "metadata": {},
     "output_type": "execute_result"
    }
   ],
   "source": [
    "# Top20\n",
    "Counter(tags).most_common(20)\n"
   ]
  },
  {
   "cell_type": "code",
   "execution_count": 30,
   "metadata": {},
   "outputs": [
    {
     "data": {
      "text/plain": [
       "['#jn', '#jn', '#', '#jn', '#is']"
      ]
     },
     "execution_count": 30,
     "metadata": {},
     "output_type": "execute_result"
    }
   ],
   "source": [
    "hashs = df[\"tweets\"].map(lambda x: [hashs for hashs in preprocess(x, lowercase=True) if hashs.startswith('#')])\n",
    "hashs = sum(hashs, [])\n",
    "hashs[0:5]"
   ]
  },
  {
   "cell_type": "code",
   "execution_count": 31,
   "metadata": {},
   "outputs": [
    {
     "data": {
      "text/plain": [
       "[('#isis', 1497),\n",
       " ('#syria', 979),\n",
       " ('#', 681),\n",
       " ('#is', 643),\n",
       " ('#islamicstate', 448),\n",
       " ('#iraq', 398),\n",
       " ('#aleppo', 378),\n",
       " ('#amaqagency', 322),\n",
       " ('#breaking', 320),\n",
       " ('#iraqi', 259),\n",
       " ('#breakingnews', 247),\n",
       " ('#turkey', 222),\n",
       " ('#syri', 216),\n",
       " ('#usa', 207),\n",
       " ('#palmyra', 204),\n",
       " ('#ypg', 193),\n",
       " ('#syrian', 191),\n",
       " ('#russian', 183),\n",
       " ('#assad', 157),\n",
       " ('#mosul', 152)]"
      ]
     },
     "execution_count": 31,
     "metadata": {},
     "output_type": "execute_result"
    }
   ],
   "source": [
    "# Top20\n",
    "Counter(hashs).most_common(20)"
   ]
  },
  {
   "cell_type": "code",
   "execution_count": 33,
   "metadata": {},
   "outputs": [
    {
     "ename": "SyntaxError",
     "evalue": "unexpected EOF while parsing (<ipython-input-33-481fb971f7a0>, line 20)",
     "output_type": "error",
     "traceback": [
      "\u001b[1;36m  File \u001b[1;32m\"<ipython-input-33-481fb971f7a0>\"\u001b[1;36m, line \u001b[1;32m20\u001b[0m\n\u001b[1;33m    title = \"Top 10 most common languages\"\u001b[0m\n\u001b[1;37m                                          ^\u001b[0m\n\u001b[1;31mSyntaxError\u001b[0m\u001b[1;31m:\u001b[0m unexpected EOF while parsing\n"
     ]
    }
   ],
   "source": []
  },
  {
   "cell_type": "code",
   "execution_count": 20,
   "metadata": {},
   "outputs": [],
   "source": []
  },
  {
   "cell_type": "code",
   "execution_count": 21,
   "metadata": {},
   "outputs": [],
   "source": []
  },
  {
   "cell_type": "code",
   "execution_count": 22,
   "metadata": {},
   "outputs": [],
   "source": []
  },
  {
   "cell_type": "code",
   "execution_count": null,
   "metadata": {},
   "outputs": [],
   "source": []
  }
 ],
 "metadata": {
  "kernelspec": {
   "display_name": "Python 3",
   "language": "python",
   "name": "python3"
  },
  "language_info": {
   "codemirror_mode": {
    "name": "ipython",
    "version": 3
   },
   "file_extension": ".py",
   "mimetype": "text/x-python",
   "name": "python",
   "nbconvert_exporter": "python",
   "pygments_lexer": "ipython3",
   "version": "3.7.1"
  }
 },
 "nbformat": 4,
 "nbformat_minor": 2
}
